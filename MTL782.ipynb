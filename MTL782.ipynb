{
  "nbformat": 4,
  "nbformat_minor": 0,
  "metadata": {
    "colab": {
      "name": "MTL782.ipynb",
      "provenance": [],
      "collapsed_sections": []
    },
    "kernelspec": {
      "name": "python3",
      "display_name": "Python 3"
    },
    "language_info": {
      "name": "python"
    }
  },
  "cells": [
    {
      "cell_type": "markdown",
      "source": [
        "# QUESTION 1"
      ],
      "metadata": {
        "id": "KJybgNm4BGgC"
      }
    },
    {
      "cell_type": "code",
      "execution_count": null,
      "metadata": {
        "id": "V_Dz3mNW9iI7"
      },
      "outputs": [],
      "source": [
        "import pandas as pd\n",
        "import numpy as np\n",
        "from sklearn.preprocessing import StandardScaler\n",
        "from sklearn.tree import DecisionTreeClassifier\n",
        "from sklearn.ensemble import RandomForestClassifier\n",
        "from sklearn.naive_bayes import GaussianNB\n",
        "from sklearn.neighbors import KNeighborsClassifier\n",
        "from sklearn.metrics import accuracy_score\n"
      ]
    },
    {
      "cell_type": "code",
      "source": [
        "from sklearn.datasets import load_iris\n",
        "data = load_iris()\n",
        "datac = np.c_[data.data,data.target]\n",
        "columns=np.append(data.feature_names,[\"Species\"])\n",
        "df = pd.DataFrame(datac, columns=columns)\n",
        "df.head()"
      ],
      "metadata": {
        "colab": {
          "base_uri": "https://localhost:8080/",
          "height": 206
        },
        "id": "kVuzMqL3907o",
        "outputId": "187923c2-4848-4792-8dc2-755457c4912e"
      },
      "execution_count": null,
      "outputs": [
        {
          "output_type": "execute_result",
          "data": {
            "text/plain": [
              "   sepal length (cm)  sepal width (cm)  petal length (cm)  petal width (cm)  \\\n",
              "0                5.1               3.5                1.4               0.2   \n",
              "1                4.9               3.0                1.4               0.2   \n",
              "2                4.7               3.2                1.3               0.2   \n",
              "3                4.6               3.1                1.5               0.2   \n",
              "4                5.0               3.6                1.4               0.2   \n",
              "\n",
              "   Species  \n",
              "0      0.0  \n",
              "1      0.0  \n",
              "2      0.0  \n",
              "3      0.0  \n",
              "4      0.0  "
            ],
            "text/html": [
              "\n",
              "  <div id=\"df-ac484c7b-a527-4b65-9f48-6307017664c3\">\n",
              "    <div class=\"colab-df-container\">\n",
              "      <div>\n",
              "<style scoped>\n",
              "    .dataframe tbody tr th:only-of-type {\n",
              "        vertical-align: middle;\n",
              "    }\n",
              "\n",
              "    .dataframe tbody tr th {\n",
              "        vertical-align: top;\n",
              "    }\n",
              "\n",
              "    .dataframe thead th {\n",
              "        text-align: right;\n",
              "    }\n",
              "</style>\n",
              "<table border=\"1\" class=\"dataframe\">\n",
              "  <thead>\n",
              "    <tr style=\"text-align: right;\">\n",
              "      <th></th>\n",
              "      <th>sepal length (cm)</th>\n",
              "      <th>sepal width (cm)</th>\n",
              "      <th>petal length (cm)</th>\n",
              "      <th>petal width (cm)</th>\n",
              "      <th>Species</th>\n",
              "    </tr>\n",
              "  </thead>\n",
              "  <tbody>\n",
              "    <tr>\n",
              "      <th>0</th>\n",
              "      <td>5.1</td>\n",
              "      <td>3.5</td>\n",
              "      <td>1.4</td>\n",
              "      <td>0.2</td>\n",
              "      <td>0.0</td>\n",
              "    </tr>\n",
              "    <tr>\n",
              "      <th>1</th>\n",
              "      <td>4.9</td>\n",
              "      <td>3.0</td>\n",
              "      <td>1.4</td>\n",
              "      <td>0.2</td>\n",
              "      <td>0.0</td>\n",
              "    </tr>\n",
              "    <tr>\n",
              "      <th>2</th>\n",
              "      <td>4.7</td>\n",
              "      <td>3.2</td>\n",
              "      <td>1.3</td>\n",
              "      <td>0.2</td>\n",
              "      <td>0.0</td>\n",
              "    </tr>\n",
              "    <tr>\n",
              "      <th>3</th>\n",
              "      <td>4.6</td>\n",
              "      <td>3.1</td>\n",
              "      <td>1.5</td>\n",
              "      <td>0.2</td>\n",
              "      <td>0.0</td>\n",
              "    </tr>\n",
              "    <tr>\n",
              "      <th>4</th>\n",
              "      <td>5.0</td>\n",
              "      <td>3.6</td>\n",
              "      <td>1.4</td>\n",
              "      <td>0.2</td>\n",
              "      <td>0.0</td>\n",
              "    </tr>\n",
              "  </tbody>\n",
              "</table>\n",
              "</div>\n",
              "      <button class=\"colab-df-convert\" onclick=\"convertToInteractive('df-ac484c7b-a527-4b65-9f48-6307017664c3')\"\n",
              "              title=\"Convert this dataframe to an interactive table.\"\n",
              "              style=\"display:none;\">\n",
              "        \n",
              "  <svg xmlns=\"http://www.w3.org/2000/svg\" height=\"24px\"viewBox=\"0 0 24 24\"\n",
              "       width=\"24px\">\n",
              "    <path d=\"M0 0h24v24H0V0z\" fill=\"none\"/>\n",
              "    <path d=\"M18.56 5.44l.94 2.06.94-2.06 2.06-.94-2.06-.94-.94-2.06-.94 2.06-2.06.94zm-11 1L8.5 8.5l.94-2.06 2.06-.94-2.06-.94L8.5 2.5l-.94 2.06-2.06.94zm10 10l.94 2.06.94-2.06 2.06-.94-2.06-.94-.94-2.06-.94 2.06-2.06.94z\"/><path d=\"M17.41 7.96l-1.37-1.37c-.4-.4-.92-.59-1.43-.59-.52 0-1.04.2-1.43.59L10.3 9.45l-7.72 7.72c-.78.78-.78 2.05 0 2.83L4 21.41c.39.39.9.59 1.41.59.51 0 1.02-.2 1.41-.59l7.78-7.78 2.81-2.81c.8-.78.8-2.07 0-2.86zM5.41 20L4 18.59l7.72-7.72 1.47 1.35L5.41 20z\"/>\n",
              "  </svg>\n",
              "      </button>\n",
              "      \n",
              "  <style>\n",
              "    .colab-df-container {\n",
              "      display:flex;\n",
              "      flex-wrap:wrap;\n",
              "      gap: 12px;\n",
              "    }\n",
              "\n",
              "    .colab-df-convert {\n",
              "      background-color: #E8F0FE;\n",
              "      border: none;\n",
              "      border-radius: 50%;\n",
              "      cursor: pointer;\n",
              "      display: none;\n",
              "      fill: #1967D2;\n",
              "      height: 32px;\n",
              "      padding: 0 0 0 0;\n",
              "      width: 32px;\n",
              "    }\n",
              "\n",
              "    .colab-df-convert:hover {\n",
              "      background-color: #E2EBFA;\n",
              "      box-shadow: 0px 1px 2px rgba(60, 64, 67, 0.3), 0px 1px 3px 1px rgba(60, 64, 67, 0.15);\n",
              "      fill: #174EA6;\n",
              "    }\n",
              "\n",
              "    [theme=dark] .colab-df-convert {\n",
              "      background-color: #3B4455;\n",
              "      fill: #D2E3FC;\n",
              "    }\n",
              "\n",
              "    [theme=dark] .colab-df-convert:hover {\n",
              "      background-color: #434B5C;\n",
              "      box-shadow: 0px 1px 3px 1px rgba(0, 0, 0, 0.15);\n",
              "      filter: drop-shadow(0px 1px 2px rgba(0, 0, 0, 0.3));\n",
              "      fill: #FFFFFF;\n",
              "    }\n",
              "  </style>\n",
              "\n",
              "      <script>\n",
              "        const buttonEl =\n",
              "          document.querySelector('#df-ac484c7b-a527-4b65-9f48-6307017664c3 button.colab-df-convert');\n",
              "        buttonEl.style.display =\n",
              "          google.colab.kernel.accessAllowed ? 'block' : 'none';\n",
              "\n",
              "        async function convertToInteractive(key) {\n",
              "          const element = document.querySelector('#df-ac484c7b-a527-4b65-9f48-6307017664c3');\n",
              "          const dataTable =\n",
              "            await google.colab.kernel.invokeFunction('convertToInteractive',\n",
              "                                                     [key], {});\n",
              "          if (!dataTable) return;\n",
              "\n",
              "          const docLinkHtml = 'Like what you see? Visit the ' +\n",
              "            '<a target=\"_blank\" href=https://colab.research.google.com/notebooks/data_table.ipynb>data table notebook</a>'\n",
              "            + ' to learn more about interactive tables.';\n",
              "          element.innerHTML = '';\n",
              "          dataTable['output_type'] = 'display_data';\n",
              "          await google.colab.output.renderOutput(dataTable, element);\n",
              "          const docLink = document.createElement('div');\n",
              "          docLink.innerHTML = docLinkHtml;\n",
              "          element.appendChild(docLink);\n",
              "        }\n",
              "      </script>\n",
              "    </div>\n",
              "  </div>\n",
              "  "
            ]
          },
          "metadata": {},
          "execution_count": 18
        }
      ]
    },
    {
      "cell_type": "code",
      "source": [
        "df.info()"
      ],
      "metadata": {
        "colab": {
          "base_uri": "https://localhost:8080/"
        },
        "id": "iFPJ1VmnBBPl",
        "outputId": "f56fb33e-11cf-4fc4-d420-2c5b37487e9a"
      },
      "execution_count": null,
      "outputs": [
        {
          "output_type": "stream",
          "name": "stdout",
          "text": [
            "<class 'pandas.core.frame.DataFrame'>\n",
            "RangeIndex: 150 entries, 0 to 149\n",
            "Data columns (total 5 columns):\n",
            " #   Column             Non-Null Count  Dtype  \n",
            "---  ------             --------------  -----  \n",
            " 0   sepal length (cm)  150 non-null    float64\n",
            " 1   sepal width (cm)   150 non-null    float64\n",
            " 2   petal length (cm)  150 non-null    float64\n",
            " 3   petal width (cm)   150 non-null    float64\n",
            " 4   Species            150 non-null    float64\n",
            "dtypes: float64(5)\n",
            "memory usage: 6.0 KB\n"
          ]
        }
      ]
    },
    {
      "cell_type": "code",
      "source": [
        "df.describe()"
      ],
      "metadata": {
        "id": "UHPk72Et-yOf",
        "colab": {
          "base_uri": "https://localhost:8080/",
          "height": 300
        },
        "outputId": "17b038a8-0d77-43e7-dabb-83c5b6f0008a"
      },
      "execution_count": null,
      "outputs": [
        {
          "output_type": "execute_result",
          "data": {
            "text/plain": [
              "       sepal length (cm)  sepal width (cm)  petal length (cm)  \\\n",
              "count         150.000000        150.000000         150.000000   \n",
              "mean            5.843333          3.057333           3.758000   \n",
              "std             0.828066          0.435866           1.765298   \n",
              "min             4.300000          2.000000           1.000000   \n",
              "25%             5.100000          2.800000           1.600000   \n",
              "50%             5.800000          3.000000           4.350000   \n",
              "75%             6.400000          3.300000           5.100000   \n",
              "max             7.900000          4.400000           6.900000   \n",
              "\n",
              "       petal width (cm)     Species  \n",
              "count        150.000000  150.000000  \n",
              "mean           1.199333    1.000000  \n",
              "std            0.762238    0.819232  \n",
              "min            0.100000    0.000000  \n",
              "25%            0.300000    0.000000  \n",
              "50%            1.300000    1.000000  \n",
              "75%            1.800000    2.000000  \n",
              "max            2.500000    2.000000  "
            ],
            "text/html": [
              "\n",
              "  <div id=\"df-4790384e-234a-4dda-bb4c-dc25577eeca0\">\n",
              "    <div class=\"colab-df-container\">\n",
              "      <div>\n",
              "<style scoped>\n",
              "    .dataframe tbody tr th:only-of-type {\n",
              "        vertical-align: middle;\n",
              "    }\n",
              "\n",
              "    .dataframe tbody tr th {\n",
              "        vertical-align: top;\n",
              "    }\n",
              "\n",
              "    .dataframe thead th {\n",
              "        text-align: right;\n",
              "    }\n",
              "</style>\n",
              "<table border=\"1\" class=\"dataframe\">\n",
              "  <thead>\n",
              "    <tr style=\"text-align: right;\">\n",
              "      <th></th>\n",
              "      <th>sepal length (cm)</th>\n",
              "      <th>sepal width (cm)</th>\n",
              "      <th>petal length (cm)</th>\n",
              "      <th>petal width (cm)</th>\n",
              "      <th>Species</th>\n",
              "    </tr>\n",
              "  </thead>\n",
              "  <tbody>\n",
              "    <tr>\n",
              "      <th>count</th>\n",
              "      <td>150.000000</td>\n",
              "      <td>150.000000</td>\n",
              "      <td>150.000000</td>\n",
              "      <td>150.000000</td>\n",
              "      <td>150.000000</td>\n",
              "    </tr>\n",
              "    <tr>\n",
              "      <th>mean</th>\n",
              "      <td>5.843333</td>\n",
              "      <td>3.057333</td>\n",
              "      <td>3.758000</td>\n",
              "      <td>1.199333</td>\n",
              "      <td>1.000000</td>\n",
              "    </tr>\n",
              "    <tr>\n",
              "      <th>std</th>\n",
              "      <td>0.828066</td>\n",
              "      <td>0.435866</td>\n",
              "      <td>1.765298</td>\n",
              "      <td>0.762238</td>\n",
              "      <td>0.819232</td>\n",
              "    </tr>\n",
              "    <tr>\n",
              "      <th>min</th>\n",
              "      <td>4.300000</td>\n",
              "      <td>2.000000</td>\n",
              "      <td>1.000000</td>\n",
              "      <td>0.100000</td>\n",
              "      <td>0.000000</td>\n",
              "    </tr>\n",
              "    <tr>\n",
              "      <th>25%</th>\n",
              "      <td>5.100000</td>\n",
              "      <td>2.800000</td>\n",
              "      <td>1.600000</td>\n",
              "      <td>0.300000</td>\n",
              "      <td>0.000000</td>\n",
              "    </tr>\n",
              "    <tr>\n",
              "      <th>50%</th>\n",
              "      <td>5.800000</td>\n",
              "      <td>3.000000</td>\n",
              "      <td>4.350000</td>\n",
              "      <td>1.300000</td>\n",
              "      <td>1.000000</td>\n",
              "    </tr>\n",
              "    <tr>\n",
              "      <th>75%</th>\n",
              "      <td>6.400000</td>\n",
              "      <td>3.300000</td>\n",
              "      <td>5.100000</td>\n",
              "      <td>1.800000</td>\n",
              "      <td>2.000000</td>\n",
              "    </tr>\n",
              "    <tr>\n",
              "      <th>max</th>\n",
              "      <td>7.900000</td>\n",
              "      <td>4.400000</td>\n",
              "      <td>6.900000</td>\n",
              "      <td>2.500000</td>\n",
              "      <td>2.000000</td>\n",
              "    </tr>\n",
              "  </tbody>\n",
              "</table>\n",
              "</div>\n",
              "      <button class=\"colab-df-convert\" onclick=\"convertToInteractive('df-4790384e-234a-4dda-bb4c-dc25577eeca0')\"\n",
              "              title=\"Convert this dataframe to an interactive table.\"\n",
              "              style=\"display:none;\">\n",
              "        \n",
              "  <svg xmlns=\"http://www.w3.org/2000/svg\" height=\"24px\"viewBox=\"0 0 24 24\"\n",
              "       width=\"24px\">\n",
              "    <path d=\"M0 0h24v24H0V0z\" fill=\"none\"/>\n",
              "    <path d=\"M18.56 5.44l.94 2.06.94-2.06 2.06-.94-2.06-.94-.94-2.06-.94 2.06-2.06.94zm-11 1L8.5 8.5l.94-2.06 2.06-.94-2.06-.94L8.5 2.5l-.94 2.06-2.06.94zm10 10l.94 2.06.94-2.06 2.06-.94-2.06-.94-.94-2.06-.94 2.06-2.06.94z\"/><path d=\"M17.41 7.96l-1.37-1.37c-.4-.4-.92-.59-1.43-.59-.52 0-1.04.2-1.43.59L10.3 9.45l-7.72 7.72c-.78.78-.78 2.05 0 2.83L4 21.41c.39.39.9.59 1.41.59.51 0 1.02-.2 1.41-.59l7.78-7.78 2.81-2.81c.8-.78.8-2.07 0-2.86zM5.41 20L4 18.59l7.72-7.72 1.47 1.35L5.41 20z\"/>\n",
              "  </svg>\n",
              "      </button>\n",
              "      \n",
              "  <style>\n",
              "    .colab-df-container {\n",
              "      display:flex;\n",
              "      flex-wrap:wrap;\n",
              "      gap: 12px;\n",
              "    }\n",
              "\n",
              "    .colab-df-convert {\n",
              "      background-color: #E8F0FE;\n",
              "      border: none;\n",
              "      border-radius: 50%;\n",
              "      cursor: pointer;\n",
              "      display: none;\n",
              "      fill: #1967D2;\n",
              "      height: 32px;\n",
              "      padding: 0 0 0 0;\n",
              "      width: 32px;\n",
              "    }\n",
              "\n",
              "    .colab-df-convert:hover {\n",
              "      background-color: #E2EBFA;\n",
              "      box-shadow: 0px 1px 2px rgba(60, 64, 67, 0.3), 0px 1px 3px 1px rgba(60, 64, 67, 0.15);\n",
              "      fill: #174EA6;\n",
              "    }\n",
              "\n",
              "    [theme=dark] .colab-df-convert {\n",
              "      background-color: #3B4455;\n",
              "      fill: #D2E3FC;\n",
              "    }\n",
              "\n",
              "    [theme=dark] .colab-df-convert:hover {\n",
              "      background-color: #434B5C;\n",
              "      box-shadow: 0px 1px 3px 1px rgba(0, 0, 0, 0.15);\n",
              "      filter: drop-shadow(0px 1px 2px rgba(0, 0, 0, 0.3));\n",
              "      fill: #FFFFFF;\n",
              "    }\n",
              "  </style>\n",
              "\n",
              "      <script>\n",
              "        const buttonEl =\n",
              "          document.querySelector('#df-4790384e-234a-4dda-bb4c-dc25577eeca0 button.colab-df-convert');\n",
              "        buttonEl.style.display =\n",
              "          google.colab.kernel.accessAllowed ? 'block' : 'none';\n",
              "\n",
              "        async function convertToInteractive(key) {\n",
              "          const element = document.querySelector('#df-4790384e-234a-4dda-bb4c-dc25577eeca0');\n",
              "          const dataTable =\n",
              "            await google.colab.kernel.invokeFunction('convertToInteractive',\n",
              "                                                     [key], {});\n",
              "          if (!dataTable) return;\n",
              "\n",
              "          const docLinkHtml = 'Like what you see? Visit the ' +\n",
              "            '<a target=\"_blank\" href=https://colab.research.google.com/notebooks/data_table.ipynb>data table notebook</a>'\n",
              "            + ' to learn more about interactive tables.';\n",
              "          element.innerHTML = '';\n",
              "          dataTable['output_type'] = 'display_data';\n",
              "          await google.colab.output.renderOutput(dataTable, element);\n",
              "          const docLink = document.createElement('div');\n",
              "          docLink.innerHTML = docLinkHtml;\n",
              "          element.appendChild(docLink);\n",
              "        }\n",
              "      </script>\n",
              "    </div>\n",
              "  </div>\n",
              "  "
            ]
          },
          "metadata": {},
          "execution_count": 20
        }
      ]
    },
    {
      "cell_type": "code",
      "source": [
        "df['Species'].value_counts()"
      ],
      "metadata": {
        "colab": {
          "base_uri": "https://localhost:8080/"
        },
        "id": "o_uyyN-kA1JN",
        "outputId": "c80ae558-b12a-44b1-c3b5-e3ffd09c3d6e"
      },
      "execution_count": null,
      "outputs": [
        {
          "output_type": "execute_result",
          "data": {
            "text/plain": [
              "0.0    50\n",
              "1.0    50\n",
              "2.0    50\n",
              "Name: Species, dtype: int64"
            ]
          },
          "metadata": {},
          "execution_count": 21
        }
      ]
    },
    {
      "cell_type": "code",
      "source": [
        "X = df.iloc[:, :-1].values\n",
        "y = df.iloc[:, -1].values\n"
      ],
      "metadata": {
        "id": "oNPAttnJBPlu"
      },
      "execution_count": null,
      "outputs": []
    },
    {
      "cell_type": "markdown",
      "source": [
        "Setting up values for K-Fold Cross Validation:"
      ],
      "metadata": {
        "id": "2XhQJDxw9a-m"
      }
    },
    {
      "cell_type": "code",
      "source": [
        "ntot=y.shape[0]\n",
        "k=5 #k for k-fold cross validation\n",
        "ntest=int((1/k)*ntot)\n",
        "itr=int(ntot/ntest)"
      ],
      "metadata": {
        "id": "C61eLqXoCrjP"
      },
      "execution_count": null,
      "outputs": []
    },
    {
      "cell_type": "markdown",
      "source": [
        "# **Decision Tree**"
      ],
      "metadata": {
        "id": "-Q2F8cbq37oG"
      }
    },
    {
      "cell_type": "code",
      "source": [
        "acc=0\n",
        "for i in range (itr):\n",
        "  #splitting the dataset\n",
        "  X_test=X[i*ntest:(i+1)*ntest,:10]\n",
        "  X_train=np.concatenate((X[:i*ntest,:10],X[(i+1)*ntest:,:10]))\n",
        "  y_test=y[i*ntest:(i+1)*ntest]\n",
        "  y_train=np.concatenate([y[:i*ntest],y[(i+1)*ntest:]])\n",
        "  #Feature Scaling\n",
        "  from sklearn.preprocessing import StandardScaler  \n",
        "  sc = StandardScaler()\n",
        "  X_train = sc.fit_transform(X_train)\n",
        "  X_test = sc.transform(X_test)\n",
        "  # Training the model\n",
        "  from sklearn.tree import DecisionTreeClassifier \n",
        "  DTclassifier = DecisionTreeClassifier(criterion = 'entropy', random_state = 0)\n",
        "  DTclassifier.fit(X_train, y_train)\n",
        "  #Predicting the value\n",
        "  y_pred1 = DTclassifier.predict(X_test)  \n",
        "  from sklearn.metrics import accuracy_score\n",
        "  acc+=accuracy_score(y_test, y_pred1)\n",
        "  print(\"Accuracy for iteration number\",i+1,\"of cross validation is \",accuracy_score(y_test, y_pred1)) #Checking accuracy\n",
        "print(\"Overall average accuracy is\",acc/k)"
      ],
      "metadata": {
        "colab": {
          "base_uri": "https://localhost:8080/"
        },
        "id": "KFuvN8gn0kPr",
        "outputId": "c31cc094-ecce-40ee-b96e-d56b38c5f3d6"
      },
      "execution_count": null,
      "outputs": [
        {
          "output_type": "stream",
          "name": "stdout",
          "text": [
            "Accuracy for iteration number 1 of cross validation is  1.0\n",
            "Accuracy for iteration number 2 of cross validation is  0.9666666666666667\n",
            "Accuracy for iteration number 3 of cross validation is  0.8333333333333334\n",
            "Accuracy for iteration number 4 of cross validation is  0.9333333333333333\n",
            "Accuracy for iteration number 5 of cross validation is  0.8\n",
            "Overall average accuracy is 0.9066666666666666\n"
          ]
        }
      ]
    },
    {
      "cell_type": "markdown",
      "source": [
        "# **Random Forest**"
      ],
      "metadata": {
        "id": "TTdNPBMX6-Ow"
      }
    },
    {
      "cell_type": "code",
      "source": [
        "acc=0\n",
        "for i in range (itr):\n",
        "  #splitting the dataset\n",
        "  X_test=X[i*ntest:(i+1)*ntest,:]\n",
        "  X_train=np.concatenate((X[:i*ntest,:],X[(i+1)*ntest:,:]))\n",
        "  y_test=y[i*ntest:(i+1)*ntest]\n",
        "  y_train=np.concatenate([y[:i*ntest],y[(i+1)*ntest:]])\n",
        "  #Feature Scaling\n",
        "  sc = StandardScaler()\n",
        "  X_train = sc.fit_transform(X_train)\n",
        "  X_test = sc.transform(X_test)\n",
        "  #Using Random Forest Classifier\n",
        "  RFclassifier = RandomForestClassifier(n_estimators = 10, criterion = 'entropy', random_state = 0)\n",
        "  RFclassifier.fit(X_train, y_train)\n",
        "  #Predicting the value\n",
        "  y_pred2 = RFclassifier.predict(X_test)  \n",
        "  acc+=accuracy_score(y_test, y_pred2)\n",
        "  print(\"Accuracy for iteration number\",i+1,\"of cross validation is \",accuracy_score(y_test, y_pred2)) #Checking accuracy\n",
        "print(\"Overall average accuracy is\",acc/k)"
      ],
      "metadata": {
        "colab": {
          "base_uri": "https://localhost:8080/"
        },
        "id": "Y8rIkkui5kTg",
        "outputId": "5f35b21e-78d3-4b70-857c-bc6be5a58544"
      },
      "execution_count": null,
      "outputs": [
        {
          "output_type": "stream",
          "name": "stdout",
          "text": [
            "Accuracy for iteration number 1 of cross validation is  1.0\n",
            "Accuracy for iteration number 2 of cross validation is  1.0\n",
            "Accuracy for iteration number 3 of cross validation is  0.9\n",
            "Accuracy for iteration number 4 of cross validation is  0.9333333333333333\n",
            "Accuracy for iteration number 5 of cross validation is  0.8\n",
            "Overall average accuracy is 0.9266666666666665\n"
          ]
        }
      ]
    },
    {
      "cell_type": "markdown",
      "source": [
        "# **Naive Bayes Classifier**"
      ],
      "metadata": {
        "id": "8AL6PeIK9bVn"
      }
    },
    {
      "cell_type": "code",
      "source": [
        "acc=0\n",
        "for i in range (itr):\n",
        "  #splitting the dataset\n",
        "  X_test=X[i*ntest:(i+1)*ntest,:]\n",
        "  X_train=np.concatenate((X[:i*ntest,:],X[(i+1)*ntest:,:]))\n",
        "  y_test=y[i*ntest:(i+1)*ntest]\n",
        "  y_train=np.concatenate([y[:i*ntest],y[(i+1)*ntest:]])\n",
        "  #Feature Scaling\n",
        "  sc = StandardScaler()\n",
        "  X_train = sc.fit_transform(X_train)\n",
        "  X_test = sc.transform(X_test)\n",
        "  #Using Naive Bayes Classifier\n",
        "  NBclassifier = GaussianNB()\n",
        "  NBclassifier.fit(X_train, y_train)\n",
        "  #Predicting the value\n",
        "  y_pred3 = NBclassifier.predict(X_test)  \n",
        "  acc+=accuracy_score(y_test, y_pred3)\n",
        "  print(\"Accuracy for iteration number\",i+1,\"of cross validation is \",accuracy_score(y_test, y_pred3)) #Checking accuracy\n",
        "print(\"Overall average accuracy is\",acc/k)"
      ],
      "metadata": {
        "colab": {
          "base_uri": "https://localhost:8080/"
        },
        "id": "vmUpD18c8wpd",
        "outputId": "2d10635b-3bbf-4d57-f6e1-08bb7518ac64"
      },
      "execution_count": null,
      "outputs": [
        {
          "output_type": "stream",
          "name": "stdout",
          "text": [
            "Accuracy for iteration number 1 of cross validation is  1.0\n",
            "Accuracy for iteration number 2 of cross validation is  0.9666666666666667\n",
            "Accuracy for iteration number 3 of cross validation is  0.9\n",
            "Accuracy for iteration number 4 of cross validation is  0.9333333333333333\n",
            "Accuracy for iteration number 5 of cross validation is  0.9333333333333333\n",
            "Overall average accuracy is 0.9466666666666667\n"
          ]
        }
      ]
    },
    {
      "cell_type": "markdown",
      "source": [
        "# **K-Nearest Neighbour**"
      ],
      "metadata": {
        "id": "t7bvKdaL9iAF"
      }
    },
    {
      "cell_type": "code",
      "source": [
        "acc=0\n",
        "for i in range (itr):\n",
        "  #splitting the dataset\n",
        "  X_test=X[i*ntest:(i+1)*ntest,:]\n",
        "  X_train=np.concatenate((X[:i*ntest,:],X[(i+1)*ntest:,:]))\n",
        "  y_test=y[i*ntest:(i+1)*ntest]\n",
        "  y_train=np.concatenate([y[:i*ntest],y[(i+1)*ntest:]])\n",
        "  #Feature Scaling\n",
        "  sc = StandardScaler()\n",
        "  X_train = sc.fit_transform(X_train)\n",
        "  X_test = sc.transform(X_test)\n",
        "  #Using K Nearest Neighbour Classifier\n",
        "  KNNclassifier = KNeighborsClassifier(n_neighbors = 5, metric = 'minkowski', p = 2)\n",
        "  KNNclassifier.fit(X_train, y_train)\n",
        "  #Predicting the value\n",
        "  y_pred4 = KNNclassifier.predict(X_test)  \n",
        "  acc+=accuracy_score(y_test, y_pred4)\n",
        "  print(\"Accuracy for iteration number\",i+1,\"of cross validation is \",accuracy_score(y_test, y_pred4)) #Checking accuracy\n",
        "print(\"Overall average accuracy is\",acc/k)"
      ],
      "metadata": {
        "colab": {
          "base_uri": "https://localhost:8080/"
        },
        "id": "vALb4KOB69MV",
        "outputId": "f7abca55-fe83-4f28-f641-d900b8b210c4"
      },
      "execution_count": null,
      "outputs": [
        {
          "output_type": "stream",
          "name": "stdout",
          "text": [
            "Accuracy for iteration number 1 of cross validation is  1.0\n",
            "Accuracy for iteration number 2 of cross validation is  1.0\n",
            "Accuracy for iteration number 3 of cross validation is  0.8\n",
            "Accuracy for iteration number 4 of cross validation is  0.9333333333333333\n",
            "Accuracy for iteration number 5 of cross validation is  0.7333333333333333\n",
            "Overall average accuracy is 0.8933333333333333\n"
          ]
        }
      ]
    },
    {
      "cell_type": "markdown",
      "source": [
        "# Question 2\n"
      ],
      "metadata": {
        "id": "oD95GK_U-IF_"
      }
    },
    {
      "cell_type": "markdown",
      "source": [
        "## Importing dataset"
      ],
      "metadata": {
        "id": "75iiywSL_bom"
      }
    },
    {
      "cell_type": "code",
      "source": [
        "#df = pd.read_csv('http://fimi.uantwerpen.be/data/retail.dat', sep='\\sp', header=None)\n",
        "df = pd.read_csv('http://fimi.uantwerpen.be/data/retail.dat', sep='\\sp', engine='python' , header=None)\n",
        "data = []\n",
        "for i in range(df.shape[0]):\n",
        "  arr = []\n",
        "  arr.append(i)\n",
        "  x = [int(i) for i in df[0][i].split()]\n",
        "  arr.append(x);\n",
        "  data.append(arr)\n",
        "#data"
      ],
      "metadata": {
        "id": "lLNEBy3g6GA8"
      },
      "execution_count": null,
      "outputs": []
    },
    {
      "cell_type": "code",
      "source": [
        "# testing data\n",
        "data = [\n",
        "        ['T100',['I1','I2','I5']],\n",
        "        ['T200',['I2','I4']],\n",
        "        ['T300',['I2','I3']],\n",
        "        ['T400',['I1','I2','I4']],\n",
        "        ['T500',['I1','I3']],\n",
        "        ['T600',['I2','I3']],\n",
        "        ['T700',['I1','I3']],\n",
        "        ['T800',['I1','I2','I3','I5']],\n",
        "        ['T900',['I1','I2','I3']]\n",
        "        ]"
      ],
      "metadata": {
        "id": "0hsDIB5s0MHJ"
      },
      "execution_count": null,
      "outputs": []
    },
    {
      "cell_type": "markdown",
      "source": [
        "## Apriori"
      ],
      "metadata": {
        "id": "oMKaFvUSABgg"
      }
    },
    {
      "cell_type": "markdown",
      "source": [
        "### finding the set of elements"
      ],
      "metadata": {
        "id": "GTj0-AhiAb9m"
      }
    },
    {
      "cell_type": "code",
      "source": [
        "init = []\n",
        "for i in data:\n",
        "    for q in i[1]:\n",
        "        if(q not in init):\n",
        "            init.append(q)\n",
        "init = sorted(init)\n",
        "print(init)"
      ],
      "metadata": {
        "colab": {
          "base_uri": "https://localhost:8080/"
        },
        "id": "nLTfCaAeAfvI",
        "outputId": "5415b494-063d-4263-8a6d-c577e889c4ee"
      },
      "execution_count": null,
      "outputs": [
        {
          "output_type": "stream",
          "name": "stdout",
          "text": [
            "['I1', 'I2', 'I3', 'I4', 'I5']\n"
          ]
        }
      ]
    },
    {
      "cell_type": "markdown",
      "source": [
        "### choosing support"
      ],
      "metadata": {
        "id": "vV66oFioAiZP"
      }
    },
    {
      "cell_type": "code",
      "source": [
        "sp = 0.4\n",
        "s = int(sp*len(data))\n",
        "s"
      ],
      "metadata": {
        "colab": {
          "base_uri": "https://localhost:8080/"
        },
        "id": "X2HDN8NKAkyk",
        "outputId": "b1237332-538b-4da2-c386-36d8b275a0d8"
      },
      "execution_count": null,
      "outputs": [
        {
          "output_type": "execute_result",
          "data": {
            "text/plain": [
              "3"
            ]
          },
          "metadata": {},
          "execution_count": 8
        }
      ]
    },
    {
      "cell_type": "markdown",
      "source": [
        "### applying the apiori algorithm"
      ],
      "metadata": {
        "id": "oqXdMTJ9AoKV"
      }
    },
    {
      "cell_type": "code",
      "source": [
        "from collections import Counter\n",
        "c = Counter()\n",
        "for i in init:\n",
        "    for d in data:\n",
        "        if(i in d[1]):\n",
        "            c[i]+=1\n",
        "print(\"C1:\")\n",
        "for i in c:\n",
        "    print(str([i])+\": \"+str(c[i]))\n",
        "print()\n",
        "l = Counter()\n",
        "for i in c:\n",
        "    if(c[i] >= s):\n",
        "        l[frozenset([i])]+=c[i]\n",
        "print(\"L1:\")\n",
        "for i in l:\n",
        "    print(str(list(i))+\": \"+str(l[i]))\n",
        "print()\n",
        "pl = l\n",
        "pos = 1\n",
        "for count in range (2,1000):\n",
        "    nc = set()\n",
        "    temp = list(l)\n",
        "    for i in range(0,len(temp)):\n",
        "        for j in range(i+1,len(temp)):\n",
        "            t = temp[i].union(temp[j])\n",
        "            if(len(t) == count):\n",
        "                nc.add(temp[i].union(temp[j]))\n",
        "    nc = list(nc)\n",
        "    c = Counter()\n",
        "    for i in nc:\n",
        "        c[i] = 0\n",
        "        for q in data:\n",
        "            temp = set(q[1])\n",
        "            if(i.issubset(temp)):\n",
        "                c[i]+=1\n",
        "    print(\"C\"+str(count)+\":\")\n",
        "    for i in c:\n",
        "        print(str(list(i))+\": \"+str(c[i]))\n",
        "    print()\n",
        "    l = Counter()\n",
        "    for i in c:\n",
        "        if(c[i] >= s):\n",
        "            l[i]+=c[i]\n",
        "    print(\"L\"+str(count)+\":\")\n",
        "    for i in l:\n",
        "        print(str(list(i))+\": \"+str(l[i]))\n",
        "    print()\n",
        "    if(len(l) == 0):\n",
        "        break\n",
        "    pl = l\n",
        "    pos = count\n",
        "print(\"Result: \")\n",
        "print(\"L\"+str(pos)+\":\")\n",
        "for i in pl:\n",
        "    print(str(list(i))+\": \"+str(pl[i]))\n",
        "print()\n"
      ],
      "metadata": {
        "colab": {
          "base_uri": "https://localhost:8080/"
        },
        "id": "qkfkVmWWApHJ",
        "outputId": "41524627-174f-43f0-feec-9be1ade873d2"
      },
      "execution_count": null,
      "outputs": [
        {
          "output_type": "stream",
          "name": "stdout",
          "text": [
            "C1:\n",
            "['I1']: 6\n",
            "['I2']: 7\n",
            "['I3']: 6\n",
            "['I4']: 2\n",
            "['I5']: 2\n",
            "\n",
            "L1:\n",
            "['I1']: 6\n",
            "['I2']: 7\n",
            "['I3']: 6\n",
            "\n",
            "C2:\n",
            "['I2', 'I3']: 4\n",
            "['I2', 'I1']: 4\n",
            "['I3', 'I1']: 4\n",
            "\n",
            "L2:\n",
            "['I2', 'I3']: 4\n",
            "['I2', 'I1']: 4\n",
            "['I3', 'I1']: 4\n",
            "\n",
            "C3:\n",
            "['I2', 'I3', 'I1']: 2\n",
            "\n",
            "L3:\n",
            "\n",
            "Result: \n",
            "L2:\n",
            "['I2', 'I3']: 4\n",
            "['I2', 'I1']: 4\n",
            "['I3', 'I1']: 4\n",
            "\n"
          ]
        }
      ]
    },
    {
      "cell_type": "markdown",
      "source": [
        "### Finding association rules for subsets\n"
      ],
      "metadata": {
        "id": "uAkAS2EaAsmq"
      }
    },
    {
      "cell_type": "code",
      "source": [
        "# Finding association rules for subsets\n",
        "from itertools import combinations\n",
        "for l in pl:\n",
        "    c = [frozenset(q) for q in combinations(l,len(l)-1)]\n",
        "    mmax = 0\n",
        "    for a in c:\n",
        "        b = l-a\n",
        "        ab = l\n",
        "        sab = 0\n",
        "        sa = 0\n",
        "        sb = 0\n",
        "        for q in data:\n",
        "            temp = set(q[1])\n",
        "            if(a.issubset(temp)):\n",
        "                sa+=1\n",
        "            if(b.issubset(temp)):\n",
        "                sb+=1\n",
        "            if(ab.issubset(temp)):\n",
        "                sab+=1\n",
        "        temp = sab/sa*100\n",
        "        if(temp > mmax):\n",
        "            mmax = temp\n",
        "        temp = sab/sb*100\n",
        "        if(temp > mmax):\n",
        "            mmax = temp\n",
        "        print(str(list(a))+\" -> \"+str(list(b))+\" = \"+str(sab/sa*100)+\"%\")\n",
        "        print(str(list(b))+\" -> \"+str(list(a))+\" = \"+str(sab/sb*100)+\"%\")\n",
        "    curr = 1\n",
        "    print(\"choosing:\", end=' ')\n",
        "    for a in c:\n",
        "        b = l-a\n",
        "        ab = l\n",
        "        sab = 0\n",
        "        sa = 0\n",
        "        sb = 0\n",
        "        for q in data:\n",
        "            temp = set(q[1])\n",
        "            if(a.issubset(temp)):\n",
        "                sa+=1\n",
        "            if(b.issubset(temp)):\n",
        "                sb+=1\n",
        "            if(ab.issubset(temp)):\n",
        "                sab+=1\n",
        "        temp = sab/sa*100\n",
        "        if(temp == mmax):\n",
        "            print(curr, end = ' ')\n",
        "        curr += 1\n",
        "        temp = sab/sb*100\n",
        "        if(temp == mmax):\n",
        "            print(curr, end = ' ')\n",
        "        curr += 1\n",
        "    print()\n",
        "    print()"
      ],
      "metadata": {
        "colab": {
          "base_uri": "https://localhost:8080/"
        },
        "id": "jeeN2JAuAwSo",
        "outputId": "2c13aa15-2b30-4afd-e6c2-5e05da7d5055"
      },
      "execution_count": null,
      "outputs": [
        {
          "output_type": "stream",
          "name": "stdout",
          "text": [
            "['I2'] -> ['I3'] = 57.14285714285714%\n",
            "['I3'] -> ['I2'] = 66.66666666666666%\n",
            "['I3'] -> ['I2'] = 66.66666666666666%\n",
            "['I2'] -> ['I3'] = 57.14285714285714%\n",
            "choosing: 2 3 \n",
            "\n",
            "['I2'] -> ['I1'] = 57.14285714285714%\n",
            "['I1'] -> ['I2'] = 66.66666666666666%\n",
            "['I1'] -> ['I2'] = 66.66666666666666%\n",
            "['I2'] -> ['I1'] = 57.14285714285714%\n",
            "choosing: 2 3 \n",
            "\n",
            "['I3'] -> ['I1'] = 66.66666666666666%\n",
            "['I1'] -> ['I3'] = 66.66666666666666%\n",
            "['I1'] -> ['I3'] = 66.66666666666666%\n",
            "['I3'] -> ['I1'] = 66.66666666666666%\n",
            "choosing: 1 2 3 4 \n",
            "\n"
          ]
        }
      ]
    }
  ]
}