{
  "nbformat": 4,
  "nbformat_minor": 0,
  "metadata": {
    "colab": {
      "name": "Apriori.ipynb",
      "provenance": []
    },
    "kernelspec": {
      "name": "python3",
      "display_name": "Python 3"
    },
    "language_info": {
      "name": "python"
    }
  },
  "cells": [
    {
      "cell_type": "code",
      "execution_count": null,
      "metadata": {
        "id": "HzeIcBYERbA7"
      },
      "outputs": [],
      "source": [
        "import numpy as np\n",
        "import pandas as pd\n"
      ]
    },
    {
      "cell_type": "markdown",
      "source": [
        "## DATA"
      ],
      "metadata": {
        "id": "QMfGeHcJRtVU"
      }
    },
    {
      "cell_type": "code",
      "source": [
        "\n",
        "df = pd.read_csv('http://fimi.uantwerpen.be/data/retail.dat', sep='\\sp', engine='python' , header=None)\n",
        "data = []\n",
        "for i in range(df.shape[0]):\n",
        "  arr = []\n",
        "  arr.append(i)\n",
        "  x = [int(i) for i in df[0][i].split()]\n",
        "  arr.append(x);\n",
        "  data.append(arr)\n",
        "#data"
      ],
      "metadata": {
        "id": "tg30dx1pRljg"
      },
      "execution_count": null,
      "outputs": []
    },
    {
      "cell_type": "code",
      "source": [
        "# testing data\n",
        "data = [\n",
        "        ['T100',['I1','I2','I5']],\n",
        "        ['T200',['I2','I4']],\n",
        "        ['T300',['I2','I3']],\n",
        "        ['T400',['I1','I2','I4']],\n",
        "        ['T500',['I1','I3']],\n",
        "        ['T600',['I2','I3']],\n",
        "        ['T700',['I1','I3']],\n",
        "        ['T800',['I1','I2','I3','I5']],\n",
        "        ['T900',['I1','I2','I3']]\n",
        "        ]"
      ],
      "metadata": {
        "id": "eEZffoNLT9Qd"
      },
      "execution_count": null,
      "outputs": []
    },
    {
      "cell_type": "markdown",
      "source": [
        "## initialisation"
      ],
      "metadata": {
        "id": "Y4TW8aToSEdk"
      }
    },
    {
      "cell_type": "code",
      "source": [
        "C = {}\n",
        "L = {}\n",
        "\n",
        "num_trans = len(data)\n",
        "min_support = 0.2\n",
        "min_conf = 0.3\n",
        "itemset_size = 1\n",
        "discarded = {itemset_size: []}\n",
        "init = []\n",
        "for i in data:\n",
        "    for q in i[1]:\n",
        "        if(q not in init):\n",
        "            init.append(q)\n",
        "init = sorted(init)\n",
        "C.update({itemset_size : [[f] for f in init]})\n",
        "C"
      ],
      "metadata": {
        "colab": {
          "base_uri": "https://localhost:8080/"
        },
        "id": "u9x6_yvHSHUA",
        "outputId": "b9ff001d-aa81-4142-ec65-902b0352ad90"
      },
      "execution_count": null,
      "outputs": [
        {
          "output_type": "execute_result",
          "data": {
            "text/plain": [
              "{1: [['I1'], ['I2'], ['I3'], ['I4'], ['I5']]}"
            ]
          },
          "metadata": {},
          "execution_count": 3
        }
      ]
    },
    {
      "cell_type": "markdown",
      "source": [
        "## helper functions"
      ],
      "metadata": {
        "id": "iNVfiJJFWzIp"
      }
    },
    {
      "cell_type": "code",
      "source": [
        "def count_occurences(itemset, data):\n",
        "  count = 0\n",
        "  for i in range(len(data)):\n",
        "    if set(itemset).issubset(set(data[i][1])):\n",
        "      count += 1\n",
        "  return count"
      ],
      "metadata": {
        "id": "h9w7FuCnWyfS"
      },
      "execution_count": null,
      "outputs": []
    },
    {
      "cell_type": "code",
      "source": [
        "def get_frequent(itemset, data, min_support, prev_discarded ):\n",
        "  L = []\n",
        "  supp_counts = []\n",
        "  new_discarded = []\n",
        "  num_trans = len(data)\n",
        "\n",
        "  k = len(prev_discarded.keys())\n",
        "\n",
        "  for s in range(len(itemset)):\n",
        "    discarded_before = False\n",
        "    if k > 0:\n",
        "      for it in prev_discarded[k]:\n",
        "        if set(it).issubset(set(itemset[s])):\n",
        "          discarded_before = True\n",
        "          break\n",
        "    if not discarded_before:\n",
        "      count = count_occurences(itemset[s], data)\n",
        "      if count/num_trans >= min_support:\n",
        "        L.append(itemset[s])\n",
        "        supp_counts.append(count)\n",
        "      else:\n",
        "        new_discarded.append(itemset[s])\n",
        "\n",
        "  return L, supp_counts, new_discarded"
      ],
      "metadata": {
        "id": "lZg_wxtSUp8U"
      },
      "execution_count": null,
      "outputs": []
    },
    {
      "cell_type": "code",
      "source": [
        "def print_table(L, supp_count):\n",
        "  print(\"Itemsets | Support\")\n",
        "  for k in range(len(L)):\n",
        "    print(\"{} : {}\".format(L[k], supp_count[k]))\n",
        "  print(\"\\n\\n\")"
      ],
      "metadata": {
        "id": "7g9cSxoPcYiP"
      },
      "execution_count": null,
      "outputs": []
    },
    {
      "cell_type": "markdown",
      "source": [
        "## Creating L1"
      ],
      "metadata": {
        "id": "bPx6JXgcdEBp"
      }
    },
    {
      "cell_type": "code",
      "source": [
        "supp_count_L = {}\n",
        "f, sup, new_discarded = get_frequent(C[itemset_size], data, min_support, discarded)\n",
        "discarded.update({itemset_size : new_discarded})\n",
        "L.update({itemset_size : f})\n",
        "supp_count_L.update({itemset_size : sup})"
      ],
      "metadata": {
        "id": "76DB-DpKTFde"
      },
      "execution_count": null,
      "outputs": []
    },
    {
      "cell_type": "code",
      "source": [
        "print_table(L[1], supp_count_L[1])"
      ],
      "metadata": {
        "colab": {
          "base_uri": "https://localhost:8080/"
        },
        "id": "V2xkYIaLcwqt",
        "outputId": "5c48589c-b040-4723-d80e-2da21a602345"
      },
      "execution_count": null,
      "outputs": [
        {
          "output_type": "stream",
          "name": "stdout",
          "text": [
            "Itemsets | Support\n",
            "['I1'] : 6\n",
            "['I2'] : 7\n",
            "['I3'] : 6\n",
            "['I4'] : 2\n",
            "['I5'] : 2\n",
            "\n",
            "\n",
            "\n"
          ]
        }
      ]
    },
    {
      "cell_type": "markdown",
      "source": [
        "## Using the apriori property"
      ],
      "metadata": {
        "id": "SipC8Z_-dG-t"
      }
    },
    {
      "cell_type": "code",
      "source": [
        "def join_two(it1, it2, init):\n",
        "  it1.sort( key = lambda x: init.index(x))\n",
        "  it2.sort( key = lambda x: init.index(x))\n",
        "\n",
        "  for i in range(len(it1)-1):\n",
        "    if it1[i] != it2[i]:\n",
        "      return []\n",
        "\n",
        "  if init.index(it1[-1]) < init.index(it2[-1]):\n",
        "    return it1 + [it2[-1]] \n",
        "  \n",
        "  return []"
      ],
      "metadata": {
        "id": "4R3Nujvrfj_R"
      },
      "execution_count": null,
      "outputs": []
    },
    {
      "cell_type": "code",
      "source": [
        "def join_itemsets(itemsets, init):\n",
        "  C = []\n",
        "  for i in range(len(itemsets)):\n",
        "    for j in range(i+1, len(itemsets)):\n",
        "      it_out = join_two(itemsets[i], itemsets[j], init)\n",
        "      if len(it_out) > 0:\n",
        "        C.append(it_out)\n",
        "  return C"
      ],
      "metadata": {
        "id": "U6ohxBmhe429"
      },
      "execution_count": null,
      "outputs": []
    },
    {
      "cell_type": "code",
      "source": [
        "k = itemset_size + 1\n",
        "convergence = False\n",
        "while not convergence:\n",
        "  C.update({k : join_itemsets(L[k-1], init)})\n",
        "  print(\"Table C{}: \\n\".format(k))\n",
        "  print_table(C[k], [count_occurences(it, data) for it in C[k]])\n",
        "  f, sup, new_discarded = get_frequent(C[k], data, min_support, discarded)\n",
        "  L.update({k : f})\n",
        "  discarded.update({k : new_discarded})\n",
        "  supp_count_L.update({k : sup})\n",
        "  if len(L[k]) == 0:\n",
        "    convergence = True\n",
        "  else :\n",
        "    print(\"Table L{}: \\n\".format(k))\n",
        "    print_table(L[k], supp_count_L[k])\n",
        "  k += 1  "
      ],
      "metadata": {
        "colab": {
          "base_uri": "https://localhost:8080/"
        },
        "id": "nSGJlksmdKSJ",
        "outputId": "3dfe3691-b41a-4dc8-cbf4-be7bc7c5e2e1"
      },
      "execution_count": null,
      "outputs": [
        {
          "output_type": "stream",
          "name": "stdout",
          "text": [
            "Table C2: \n",
            "\n",
            "Itemsets | Support\n",
            "['I1', 'I2'] : 4\n",
            "['I1', 'I3'] : 4\n",
            "['I1', 'I4'] : 1\n",
            "['I1', 'I5'] : 2\n",
            "['I2', 'I3'] : 4\n",
            "['I2', 'I4'] : 2\n",
            "['I2', 'I5'] : 2\n",
            "['I3', 'I4'] : 0\n",
            "['I3', 'I5'] : 1\n",
            "['I4', 'I5'] : 0\n",
            "\n",
            "\n",
            "\n",
            "Table L2: \n",
            "\n",
            "Itemsets | Support\n",
            "['I1', 'I2'] : 4\n",
            "['I1', 'I3'] : 4\n",
            "['I1', 'I5'] : 2\n",
            "['I2', 'I3'] : 4\n",
            "['I2', 'I4'] : 2\n",
            "['I2', 'I5'] : 2\n",
            "\n",
            "\n",
            "\n",
            "Table C3: \n",
            "\n",
            "Itemsets | Support\n",
            "['I1', 'I2', 'I3'] : 2\n",
            "['I1', 'I2', 'I5'] : 2\n",
            "['I1', 'I3', 'I5'] : 1\n",
            "['I2', 'I3', 'I4'] : 0\n",
            "['I2', 'I3', 'I5'] : 1\n",
            "['I2', 'I4', 'I5'] : 0\n",
            "\n",
            "\n",
            "\n",
            "Table L3: \n",
            "\n",
            "Itemsets | Support\n",
            "['I1', 'I2', 'I3'] : 2\n",
            "['I1', 'I2', 'I5'] : 2\n",
            "\n",
            "\n",
            "\n",
            "Table C4: \n",
            "\n",
            "Itemsets | Support\n",
            "['I1', 'I2', 'I3', 'I5'] : 1\n",
            "\n",
            "\n",
            "\n"
          ]
        }
      ]
    },
    {
      "cell_type": "markdown",
      "source": [
        "## generating association rules"
      ],
      "metadata": {
        "id": "Uz2HqkeStJ0S"
      }
    },
    {
      "cell_type": "code",
      "source": [
        "\n",
        "\n",
        "from itertools import combinations,chain\n",
        "\n",
        "def powerset(s):\n",
        "  return list(chain.from_iterable(combinations(s,r) for r in range(1 , len(s)+1 )))\n",
        "\n",
        "def write_rules(X, X_S, S, conf, sup_x, lift, num_trans):\n",
        "  out_string = \"\"\n",
        "  out_string += \"Freq. Itemset: {}\\n\".format(X) \n",
        "  out_string += \" Rule: {}  ->  {}\\n\".format(list(S), list(X_S))\n",
        "  out_string += \"    Conf: {0:2.3f}\".format(conf)\n",
        "  out_string += \"    Supp: {0:2.3f}\".format(sup_x/num_trans)\n",
        "  out_string += \"    Lift: {0:2.3f}\\n\".format(lift)\n",
        "  return out_string\n"
      ],
      "metadata": {
        "id": "Qx_hxZl9ts2c"
      },
      "execution_count": null,
      "outputs": []
    },
    {
      "cell_type": "code",
      "source": [
        "assoc_rules = \"\"\n",
        "for i in range(1, len(L)):\n",
        "  for j in range(len(L[i])):\n",
        "    s = powerset(set(L[i][j]))\n",
        "    s.pop()\n",
        "    for z in s:\n",
        "      S = set(z)\n",
        "      X = set(L[i][j])\n",
        "      X_S = set(X-S)\n",
        "      sup_x = count_occurences(X, data)\n",
        "      sup_x_s = count_occurences(X_S, data)\n",
        "      conf = sup_x/ count_occurences(S, data)\n",
        "      lift = conf / (sup_x_s / num_trans)\n",
        "      if conf >= min_conf and sup_x >= min_support:\n",
        "        assoc_rules += write_rules(X, X_S, S, conf, sup_x, lift, num_trans)\n",
        "print(assoc_rules)"
      ],
      "metadata": {
        "colab": {
          "base_uri": "https://localhost:8080/"
        },
        "id": "gnFOcSPjtMBx",
        "outputId": "4b0f4da4-6fbb-4fa3-c896-0b2ba9470dbc"
      },
      "execution_count": null,
      "outputs": [
        {
          "output_type": "stream",
          "name": "stdout",
          "text": [
            "Freq. Itemset: {'I1', 'I2'}\n",
            " Rule: ['I1']  ->  ['I2']\n",
            "    Conf: 0.667    Supp: 0.444    Lift: 0.857\n",
            "Freq. Itemset: {'I1', 'I2'}\n",
            " Rule: ['I2']  ->  ['I1']\n",
            "    Conf: 0.571    Supp: 0.444    Lift: 0.857\n",
            "Freq. Itemset: {'I3', 'I1'}\n",
            " Rule: ['I3']  ->  ['I1']\n",
            "    Conf: 0.667    Supp: 0.444    Lift: 1.000\n",
            "Freq. Itemset: {'I3', 'I1'}\n",
            " Rule: ['I1']  ->  ['I3']\n",
            "    Conf: 0.667    Supp: 0.444    Lift: 1.000\n",
            "Freq. Itemset: {'I5', 'I1'}\n",
            " Rule: ['I5']  ->  ['I1']\n",
            "    Conf: 1.000    Supp: 0.222    Lift: 1.500\n",
            "Freq. Itemset: {'I5', 'I1'}\n",
            " Rule: ['I1']  ->  ['I5']\n",
            "    Conf: 0.333    Supp: 0.222    Lift: 1.500\n",
            "Freq. Itemset: {'I3', 'I2'}\n",
            " Rule: ['I3']  ->  ['I2']\n",
            "    Conf: 0.667    Supp: 0.444    Lift: 0.857\n",
            "Freq. Itemset: {'I3', 'I2'}\n",
            " Rule: ['I2']  ->  ['I3']\n",
            "    Conf: 0.571    Supp: 0.444    Lift: 0.857\n",
            "Freq. Itemset: {'I4', 'I2'}\n",
            " Rule: ['I4']  ->  ['I2']\n",
            "    Conf: 1.000    Supp: 0.222    Lift: 1.286\n",
            "Freq. Itemset: {'I5', 'I2'}\n",
            " Rule: ['I5']  ->  ['I2']\n",
            "    Conf: 1.000    Supp: 0.222    Lift: 1.286\n",
            "Freq. Itemset: {'I3', 'I1', 'I2'}\n",
            " Rule: ['I3']  ->  ['I1', 'I2']\n",
            "    Conf: 0.333    Supp: 0.222    Lift: 0.750\n",
            "Freq. Itemset: {'I3', 'I1', 'I2'}\n",
            " Rule: ['I1']  ->  ['I3', 'I2']\n",
            "    Conf: 0.333    Supp: 0.222    Lift: 0.750\n",
            "Freq. Itemset: {'I3', 'I1', 'I2'}\n",
            " Rule: ['I3', 'I1']  ->  ['I2']\n",
            "    Conf: 0.500    Supp: 0.222    Lift: 0.643\n",
            "Freq. Itemset: {'I3', 'I1', 'I2'}\n",
            " Rule: ['I3', 'I2']  ->  ['I1']\n",
            "    Conf: 0.500    Supp: 0.222    Lift: 0.750\n",
            "Freq. Itemset: {'I3', 'I1', 'I2'}\n",
            " Rule: ['I1', 'I2']  ->  ['I3']\n",
            "    Conf: 0.500    Supp: 0.222    Lift: 0.750\n",
            "Freq. Itemset: {'I5', 'I1', 'I2'}\n",
            " Rule: ['I5']  ->  ['I1', 'I2']\n",
            "    Conf: 1.000    Supp: 0.222    Lift: 2.250\n",
            "Freq. Itemset: {'I5', 'I1', 'I2'}\n",
            " Rule: ['I1']  ->  ['I5', 'I2']\n",
            "    Conf: 0.333    Supp: 0.222    Lift: 1.500\n",
            "Freq. Itemset: {'I5', 'I1', 'I2'}\n",
            " Rule: ['I5', 'I1']  ->  ['I2']\n",
            "    Conf: 1.000    Supp: 0.222    Lift: 1.286\n",
            "Freq. Itemset: {'I5', 'I1', 'I2'}\n",
            " Rule: ['I5', 'I2']  ->  ['I1']\n",
            "    Conf: 1.000    Supp: 0.222    Lift: 1.500\n",
            "Freq. Itemset: {'I5', 'I1', 'I2'}\n",
            " Rule: ['I1', 'I2']  ->  ['I5']\n",
            "    Conf: 0.500    Supp: 0.222    Lift: 2.250\n",
            "\n"
          ]
        }
      ]
    }
  ]
}